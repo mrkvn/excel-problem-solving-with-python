{
 "cells": [
  {
   "cell_type": "code",
   "execution_count": 99,
   "metadata": {},
   "outputs": [],
   "source": [
    "# import dependencies\n",
    "import pandas as pd\n",
    "import openpyxl\n",
    "from openpyxl.styles import PatternFill\n",
    "from openpyxl.utils import get_column_letter\n"
   ]
  },
  {
   "cell_type": "code",
   "execution_count": 100,
   "metadata": {},
   "outputs": [],
   "source": [
    "# data\n",
    "df = pd.DataFrame([[0.0, 2.0, 0.0, 0.0, 5.0, 6.0, 7.0],\n",
    "               [1.0, 0.0, 1.0, 3.0, 0.0, 0.0, 7.0],\n",
    "               [0.0, 0.0, 13.0, 14.0, 0.0, 16.0, 0.0]\n",
    "              ]\n",
    "              , columns=['A', 'B', 'C', 'D', 'E', 'F', 'G'])"
   ]
  },
  {
   "cell_type": "code",
   "execution_count": 101,
   "metadata": {},
   "outputs": [],
   "source": [
    "first_and_last_non_zeroes_index = []\n",
    "\n",
    "for index, row in df.iterrows():\n",
    "    # all non zeroes index in a row\n",
    "    non_zeroes_index= [i for i, x in enumerate(row) if x>0]\n",
    "\n",
    "    # append the first and last non zero in a row to list\n",
    "    first_and_last_non_zeroes_index.append([non_zeroes_index[0],non_zeroes_index[-1]])"
   ]
  },
  {
   "cell_type": "code",
   "execution_count": 102,
   "metadata": {},
   "outputs": [],
   "source": [
    "# output to excel\n",
    "df.to_excel('output.xlsx', index=False)\n"
   ]
  },
  {
   "cell_type": "code",
   "execution_count": 103,
   "metadata": {},
   "outputs": [],
   "source": [
    "\n",
    "# open excel\n",
    "wb = openpyxl.load_workbook(\"output.xlsx\")\n",
    "ws = wb['Sheet1']\n",
    "\n",
    "# set the color\n",
    "fill_cell = PatternFill(patternType='solid', \n",
    "                            fgColor='ffff00')\n",
    "\n",
    "# color the appropriate cells\n",
    "for index, row in enumerate(first_and_last_non_zeroes_index):\n",
    "    for col in row:\n",
    "        ws[f'{get_column_letter(col+1)}{index+2}'].fill = fill_cell\n",
    "\n",
    "# save output\n",
    "wb.save(\"output.xlsx\")"
   ]
  }
 ],
 "metadata": {
  "kernelspec": {
   "display_name": "Python 3.8.10 ('venv': venv)",
   "language": "python",
   "name": "python3"
  },
  "language_info": {
   "codemirror_mode": {
    "name": "ipython",
    "version": 3
   },
   "file_extension": ".py",
   "mimetype": "text/x-python",
   "name": "python",
   "nbconvert_exporter": "python",
   "pygments_lexer": "ipython3",
   "version": "3.8.10"
  },
  "orig_nbformat": 4,
  "vscode": {
   "interpreter": {
    "hash": "386b41a726987144c757505ee764e56edcdf132a71aee4c31ae861ed10bc4c29"
   }
  }
 },
 "nbformat": 4,
 "nbformat_minor": 2
}
