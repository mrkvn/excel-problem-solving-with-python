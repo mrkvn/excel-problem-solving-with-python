{
 "cells": [
  {
   "cell_type": "code",
   "execution_count": 16,
   "metadata": {},
   "outputs": [],
   "source": [
    "# import dependencies\n",
    "import pandas as pd"
   ]
  },
  {
   "cell_type": "code",
   "execution_count": 17,
   "metadata": {},
   "outputs": [],
   "source": [
    "# read excel file\n",
    "df = pd.read_excel('data.xlsx')"
   ]
  },
  {
   "cell_type": "code",
   "execution_count": 18,
   "metadata": {},
   "outputs": [
    {
     "name": "stdout",
     "output_type": "stream",
     "text": [
      "\n"
     ]
    }
   ],
   "source": [
    "# process data\n",
    "start_date_of_absent = None\n",
    "is_present_present_found = False\n",
    "is_absent_found = False\n",
    "\n",
    "for index,row in df.iterrows():\n",
    "    if row['staff_staff'].lower() == 'absent' and not is_absent_found:\n",
    "        is_absent_found = True\n",
    "        start_date_of_absent = row['date']\n",
    "        df.at[index, 'starting date of absent'] = start_date_of_absent\n",
    "        continue\n",
    "\n",
    "    if row['staff_staff'].lower() == 'present' and row['supervisor_status'].lower() == 'present' and is_absent_found:\n",
    "        start_date_of_absent = None\n",
    "        is_absent_found = False\n",
    "        is_present_present_found = True\n",
    "\n",
    "    if is_absent_found and not is_present_present_found:\n",
    "        df.at[index, 'starting date of absent'] = start_date_of_absent\n",
    "\n",
    "# get date instead of datetime\n",
    "df['date'] = pd.to_datetime(df[\"date\"]).dt.date\n",
    "df['starting date of absent'] = pd.to_datetime(df[\"starting date of absent\"]).dt.date\n",
    "    "
   ]
  },
  {
   "cell_type": "code",
   "execution_count": 19,
   "metadata": {},
   "outputs": [],
   "source": [
    "# output to excel\n",
    "df.to_excel('output.xlsx', index=False)"
   ]
  }
 ],
 "metadata": {
  "kernelspec": {
   "display_name": "Python 3.8.10 ('venv': venv)",
   "language": "python",
   "name": "python3"
  },
  "language_info": {
   "codemirror_mode": {
    "name": "ipython",
    "version": 3
   },
   "file_extension": ".py",
   "mimetype": "text/x-python",
   "name": "python",
   "nbconvert_exporter": "python",
   "pygments_lexer": "ipython3",
   "version": "3.8.10"
  },
  "orig_nbformat": 4,
  "vscode": {
   "interpreter": {
    "hash": "386b41a726987144c757505ee764e56edcdf132a71aee4c31ae861ed10bc4c29"
   }
  }
 },
 "nbformat": 4,
 "nbformat_minor": 2
}
