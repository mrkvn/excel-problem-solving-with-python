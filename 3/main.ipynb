{
 "cells": [
  {
   "cell_type": "code",
   "execution_count": null,
   "metadata": {},
   "outputs": [],
   "source": [
    "# import dependencies\n",
    "import pandas as pd"
   ]
  },
  {
   "cell_type": "code",
   "execution_count": null,
   "metadata": {},
   "outputs": [],
   "source": [
    "# read excel files\n",
    "df0 = pd.read_excel('data0.xlsx') # df0 is the old data\n",
    "df1 = pd.read_excel('data1.xlsx') # df1 is the new data"
   ]
  },
  {
   "cell_type": "code",
   "execution_count": null,
   "metadata": {},
   "outputs": [],
   "source": [
    "merged_df = pd.merge(df0,df1,how='right')\n",
    "\n",
    "# format dates\n",
    "merged_df['Entry Date'] = pd.to_datetime(merged_df['Entry Date']).dt.date\n",
    "merged_df['Received Date'] = pd.to_datetime(merged_df['Received Date']).dt.date"
   ]
  },
  {
   "cell_type": "code",
   "execution_count": null,
   "metadata": {},
   "outputs": [],
   "source": [
    "# output to excel\n",
    "merged_df.to_excel('output.xlsx',index=False)"
   ]
  }
 ],
 "metadata": {
  "kernelspec": {
   "display_name": "Python 3.8.10 ('venv': venv)",
   "language": "python",
   "name": "python3"
  },
  "language_info": {
   "codemirror_mode": {
    "name": "ipython",
    "version": 3
   },
   "file_extension": ".py",
   "mimetype": "text/x-python",
   "name": "python",
   "nbconvert_exporter": "python",
   "pygments_lexer": "ipython3",
   "version": "3.8.10"
  },
  "orig_nbformat": 4,
  "vscode": {
   "interpreter": {
    "hash": "386b41a726987144c757505ee764e56edcdf132a71aee4c31ae861ed10bc4c29"
   }
  }
 },
 "nbformat": 4,
 "nbformat_minor": 2
}
