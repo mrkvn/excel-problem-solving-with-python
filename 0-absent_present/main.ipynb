{
 "cells": [
  {
   "cell_type": "code",
   "execution_count": null,
   "metadata": {},
   "outputs": [],
   "source": [
    "# import dependencies\n",
    "import pandas as pd"
   ]
  },
  {
   "cell_type": "code",
   "execution_count": null,
   "metadata": {},
   "outputs": [],
   "source": [
    "# read excel file\n",
    "df = pd.read_excel('data.xlsx')"
   ]
  },
  {
   "cell_type": "code",
   "execution_count": null,
   "metadata": {},
   "outputs": [],
   "source": [
    "# process data\n",
    "import pandas as pd\n",
    "\n",
    "df = pd.read_excel('data.xlsx')\n",
    "\n",
    "absents_index = []\n",
    "is_absent_found = False\n",
    "\n",
    "for index,row in df.iterrows():\n",
    "\tif row['staff_status'].lower() == 'absent':\n",
    "\t\tabsents_index.append(index)\n",
    "\t\tis_absent_found = True\n",
    "\t\tcontinue\n",
    "\n",
    "\tif is_absent_found:\n",
    "\n",
    "\t\tif row['staff_status'].lower() == 'present':\n",
    "\n",
    "\t\t\tif row['supervisor_status'].lower() == 'present':\n",
    "\t\t\t\texpected_date = row['date']\n",
    "\n",
    "\t\t\t\tfor absent_index in absents_index:\n",
    "\t\t\t\t\tdf.at[absent_index, 'expected date of form submission'] = expected_date\n",
    "\n",
    "\t\t\t\tabsents_index = []\n",
    "\n",
    "\t\t\telif row['supervisor_status'].lower() == 'present' or row['supervisor_status'].lower() == 'restday':\n",
    "\t\t\t\tcontinue\n",
    "\n",
    "# get date instead of datetime\n",
    "df['date'] = pd.to_datetime(df[\"date\"]).dt.date\n",
    "df['expected date of form submission'] = pd.to_datetime(df[\"expected date of form submission\"]).dt.date\n",
    "    "
   ]
  },
  {
   "cell_type": "code",
   "execution_count": null,
   "metadata": {},
   "outputs": [],
   "source": [
    "# output to excel\n",
    "df.to_excel('output.xlsx', index=False)"
   ]
  }
 ],
 "metadata": {
  "kernelspec": {
   "display_name": "Python 3.8.10 ('venv': venv)",
   "language": "python",
   "name": "python3"
  },
  "language_info": {
   "codemirror_mode": {
    "name": "ipython",
    "version": 3
   },
   "file_extension": ".py",
   "mimetype": "text/x-python",
   "name": "python",
   "nbconvert_exporter": "python",
   "pygments_lexer": "ipython3",
   "version": "3.8.10"
  },
  "orig_nbformat": 4,
  "vscode": {
   "interpreter": {
    "hash": "386b41a726987144c757505ee764e56edcdf132a71aee4c31ae861ed10bc4c29"
   }
  }
 },
 "nbformat": 4,
 "nbformat_minor": 2
}
