{
 "cells": [
  {
   "cell_type": "code",
   "execution_count": 1,
   "metadata": {},
   "outputs": [],
   "source": [
    "# import dependencies\n",
    "import pandas as pd"
   ]
  },
  {
   "cell_type": "code",
   "execution_count": 2,
   "metadata": {},
   "outputs": [],
   "source": [
    "# read excel file\n",
    "df = pd.read_excel('data.xlsx')"
   ]
  },
  {
   "cell_type": "code",
   "execution_count": 5,
   "metadata": {},
   "outputs": [],
   "source": [
    "# process data\n",
    "is_absent_found = False\n",
    "absents_index = []\n",
    "expected_date = None\n",
    "\n",
    "for index,row in df.iterrows():\n",
    "    if row['staff_status'].lower() == 'absent':\n",
    "        is_absent_found = True\n",
    "        absents_index.append(index)\n",
    "        continue\n",
    "\n",
    "    if is_absent_found:\n",
    "        if row['staff_status'].lower() == 'present':\n",
    "            supervisor_status = df['supervisor_status'][index]\n",
    "\n",
    "            if supervisor_status.lower() == 'present':\n",
    "                expected_date = df['date'][index]\n",
    "\n",
    "                for i in absents_index:\n",
    "                    df.at[i,'expected date of form submission'] = expected_date\n",
    "\n",
    "                # reset variables\n",
    "                is_absent_found = False\n",
    "                absents_index = []\n",
    "                expected_date = None\n",
    "\n",
    "                continue\n",
    "\n",
    "            elif supervisor_status.lower() == 'absent' or supervisor_status.lower() == 'restday':\n",
    "                continue\n",
    "\n",
    "# get date instead of datetime\n",
    "df['date'] = pd.to_datetime(df[\"date\"]).dt.date\n",
    "df['expected date of form submission'] = pd.to_datetime(df[\"expected date of form submission\"]).dt.date\n",
    "\n",
    "\n",
    "    "
   ]
  },
  {
   "cell_type": "code",
   "execution_count": 6,
   "metadata": {},
   "outputs": [],
   "source": [
    "# output to excel\n",
    "df.to_excel('output.xlsx', index=False)"
   ]
  }
 ],
 "metadata": {
  "kernelspec": {
   "display_name": "Python 3.8.10 ('venv': venv)",
   "language": "python",
   "name": "python3"
  },
  "language_info": {
   "codemirror_mode": {
    "name": "ipython",
    "version": 3
   },
   "file_extension": ".py",
   "mimetype": "text/x-python",
   "name": "python",
   "nbconvert_exporter": "python",
   "pygments_lexer": "ipython3",
   "version": "3.8.10"
  },
  "orig_nbformat": 4,
  "vscode": {
   "interpreter": {
    "hash": "52848e2da7c81abcc9dd8648280268d3d247cc6f9835a0439f0b69bd72d59cac"
   }
  }
 },
 "nbformat": 4,
 "nbformat_minor": 2
}
